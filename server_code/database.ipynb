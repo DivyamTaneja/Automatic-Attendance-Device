{
 "cells": [
  {
   "cell_type": "code",
   "execution_count": 3,
   "metadata": {},
   "outputs": [],
   "source": [
    "import os\n",
    "import cv2 as cv\n",
    "import numpy as np"
   ]
  },
  {
   "cell_type": "code",
   "execution_count": 4,
   "metadata": {},
   "outputs": [
    {
     "name": "stdout",
     "output_type": "stream",
     "text": [
      "Ankit\n",
      "Divyam\n",
      "Gopal\n",
      "Jaya\n",
      "Meshram\n",
      "Mt\n",
      "Naveen\n",
      "Sanjeev\n",
      "Smriti\n"
     ]
    }
   ],
   "source": [
    "dir = os.getcwd()\n",
    "img_folder = os.listdir('temp/images')\n",
    "database_file = open('log/database.txt', 'w', newline='')\n",
    "\n",
    "for img_path in img_folder:\n",
    "    img_name = os.path.splitext(img_path)[0]\n",
    "    print(img_name)\n",
    "    img = cv.imread(os.path.join('temp/images', img_path))\n",
    "    img = cv.resize(img, (240, 240))\n",
    "    cv.imwrite(os.path.join('log/images', img_name+'.jpg'), img)\n",
    "    database_file.write(img_name+'.jpg'+' '+img_name+'\\n')\n",
    "\n",
    "database_file.close()"
   ]
  }
 ],
 "metadata": {
  "kernelspec": {
   "display_name": "env_3-6-13",
   "language": "python",
   "name": "python3"
  },
  "language_info": {
   "codemirror_mode": {
    "name": "ipython",
    "version": 3
   },
   "file_extension": ".py",
   "mimetype": "text/x-python",
   "name": "python",
   "nbconvert_exporter": "python",
   "pygments_lexer": "ipython3",
   "version": "3.9.7"
  },
  "orig_nbformat": 4
 },
 "nbformat": 4,
 "nbformat_minor": 2
}
