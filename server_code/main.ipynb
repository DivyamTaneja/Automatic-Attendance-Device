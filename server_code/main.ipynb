{
 "cells": [
  {
   "cell_type": "code",
   "execution_count": 93,
   "metadata": {},
   "outputs": [],
   "source": [
    "import os\n",
    "import csv\n",
    "import threading\n",
    "import subprocess\n",
    "import cv2 as cv\n",
    "import numpy as np\n",
    "import face_recognition\n",
    "from datetime import datetime"
   ]
  },
  {
   "cell_type": "code",
   "execution_count": 94,
   "metadata": {},
   "outputs": [],
   "source": [
    "dir = os.getcwd()\n",
    "info, encoders, names = [], [], {'None': [True, True]}\n",
    "txt_file = open(os.path.join(dir, 'log', 'database.txt')).readlines()\n",
    "\n",
    "for row in txt_file:\n",
    "    contents = []\n",
    "    for content in row.split():\n",
    "        contents.append(content)\n",
    "    info.append(contents)\n",
    "\n",
    "for contents in info:\n",
    "    img_name = contents[0]\n",
    "    name = contents[1]\n",
    "    names[name] = False\n",
    "    img = face_recognition.load_image_file(os.path.join(dir, 'log/images', img_name))\n",
    "    encoder = face_recognition.face_encodings(img)[0]\n",
    "    encoders.append(encoder)"
   ]
  },
  {
   "cell_type": "code",
   "execution_count": 95,
   "metadata": {},
   "outputs": [],
   "source": [
    "name = None\n",
    "done = None"
   ]
  },
  {
   "cell_type": "code",
   "execution_count": 96,
   "metadata": {},
   "outputs": [],
   "source": [
    "def attendence(name):\n",
    "    attendence_file = open(os.path.join(dir, 'temp/attendance.csv'), 'a', newline='')\n",
    "    writer = csv.writer(attendence_file)\n",
    "    current_datetime = datetime.now()\n",
    "    writer.writerow([current_datetime, name])\n",
    "    subprocess.run(['python', 'log/speak.py', 'Hello '+name])\n",
    "    attendence_file.close()"
   ]
  },
  {
   "cell_type": "code",
   "execution_count": 97,
   "metadata": {},
   "outputs": [],
   "source": [
    "def model(img):\n",
    "    global name, done\n",
    "    img = cv.cvtColor(img, cv.COLOR_BGR2RGB)\n",
    "    try: encoder = face_recognition.face_encodings(img)[0]\n",
    "    except: encoder = np.zeros(128)\n",
    "    pred = face_recognition.compare_faces(encoders, encoder)\n",
    "    name = info[pred.index(max(pred))][1] if max(pred)==1 else 'None'\n",
    "    if names[name]==False: \n",
    "        names[name] = True\n",
    "        done = True\n",
    "        threading.Thread(target=attendence(name))\n",
    "    else: name = 'None'"
   ]
  },
  {
   "cell_type": "code",
   "execution_count": 98,
   "metadata": {},
   "outputs": [],
   "source": [
    "from flask import Flask, request, jsonify"
   ]
  },
  {
   "cell_type": "code",
   "execution_count": 99,
   "metadata": {},
   "outputs": [
    {
     "name": "stdout",
     "output_type": "stream",
     "text": [
      " * Serving Flask app '__main__' (lazy loading)\n",
      " * Environment: production\n",
      "\u001b[31m   WARNING: This is a development server. Do not use it in a production deployment.\u001b[0m\n",
      "\u001b[2m   Use a production WSGI server instead.\u001b[0m\n",
      " * Debug mode: on\n"
     ]
    },
    {
     "name": "stderr",
     "output_type": "stream",
     "text": [
      " * Running on all addresses.\n",
      "   WARNING: This is a development server. Do not use it in a production deployment.\n",
      " * Running on http://192.168.104.39:5000/ (Press CTRL+C to quit)\n",
      "c:\\Users\\HP\\anaconda3\\envs\\env_3-6-13\\lib\\site-packages\\ipykernel_launcher.py:9: DeprecationWarning: The binary mode of fromstring is deprecated, as it behaves surprisingly on unicode inputs. Use frombuffer instead\n",
      "  if __name__ == '__main__':\n",
      "192.168.104.157 - - [04/May/2023 14:52:14] \"POST /api HTTP/1.1\" 0 -\n",
      "192.168.104.157 - - [04/May/2023 14:52:16] \"POST /api HTTP/1.1\" 0 -\n",
      "192.168.104.157 - - [04/May/2023 14:52:17] \"POST /api HTTP/1.1\" 0 -\n",
      "192.168.104.157 - - [04/May/2023 14:52:17] \"POST /api HTTP/1.1\" 0 -\n",
      "192.168.104.157 - - [04/May/2023 14:52:18] \"POST /api HTTP/1.1\" 0 -\n",
      "192.168.104.157 - - [04/May/2023 14:52:18] \"POST /api HTTP/1.1\" 0 -\n",
      "192.168.104.157 - - [04/May/2023 14:52:18] \"POST /api HTTP/1.1\" 0 -\n",
      "192.168.104.157 - - [04/May/2023 14:52:18] \"POST /api HTTP/1.1\" 0 -\n",
      "192.168.104.157 - - [04/May/2023 14:52:19] \"POST /api HTTP/1.1\" 0 -\n",
      "192.168.104.157 - - [04/May/2023 14:52:19] \"POST /api HTTP/1.1\" 0 -\n",
      "192.168.104.157 - - [04/May/2023 14:52:19] \"POST /api HTTP/1.1\" 0 -\n",
      "192.168.104.157 - - [04/May/2023 14:52:19] \"POST /api HTTP/1.1\" 0 -\n",
      "192.168.104.157 - - [04/May/2023 14:52:21] \"POST /api HTTP/1.1\" 0 -\n",
      "192.168.104.157 - - [04/May/2023 14:52:22] \"POST /api HTTP/1.1\" 0 -\n",
      "192.168.104.157 - - [04/May/2023 14:52:23] \"POST /api HTTP/1.1\" 0 -\n",
      "192.168.104.157 - - [04/May/2023 14:52:24] \"POST /api HTTP/1.1\" 0 -\n",
      "192.168.104.157 - - [04/May/2023 14:52:24] \"POST /api HTTP/1.1\" 0 -\n",
      "192.168.104.157 - - [04/May/2023 14:52:25] \"POST /api HTTP/1.1\" 0 -\n",
      "192.168.104.157 - - [04/May/2023 14:52:25] \"POST /api HTTP/1.1\" 0 -\n",
      "192.168.104.157 - - [04/May/2023 14:52:25] \"POST /api HTTP/1.1\" 0 -\n",
      "192.168.104.157 - - [04/May/2023 14:52:26] \"POST /api HTTP/1.1\" 0 -\n",
      "192.168.104.157 - - [04/May/2023 14:52:26] \"POST /api HTTP/1.1\" 0 -\n",
      "192.168.104.157 - - [04/May/2023 14:52:26] \"POST /api HTTP/1.1\" 0 -\n",
      "192.168.104.157 - - [04/May/2023 14:52:26] \"POST /api HTTP/1.1\" 0 -\n",
      "192.168.104.157 - - [04/May/2023 14:52:26] \"POST /api HTTP/1.1\" 0 -\n",
      "192.168.104.157 - - [04/May/2023 14:52:27] \"POST /api HTTP/1.1\" 0 -\n",
      "192.168.104.157 - - [04/May/2023 14:52:27] \"POST /api HTTP/1.1\" 0 -\n",
      "192.168.104.157 - - [04/May/2023 14:52:28] \"POST /api HTTP/1.1\" 0 -\n",
      "192.168.104.157 - - [04/May/2023 14:52:28] \"POST /api HTTP/1.1\" 0 -\n",
      "192.168.104.157 - - [04/May/2023 14:52:28] \"POST /api HTTP/1.1\" 0 -\n",
      "192.168.104.157 - - [04/May/2023 14:52:29] \"POST /api HTTP/1.1\" 0 -\n",
      "192.168.104.157 - - [04/May/2023 14:52:29] \"POST /api HTTP/1.1\" 0 -\n",
      "192.168.104.157 - - [04/May/2023 14:52:29] \"POST /api HTTP/1.1\" 0 -\n",
      "192.168.104.157 - - [04/May/2023 14:52:29] \"POST /api HTTP/1.1\" 0 -\n",
      "192.168.104.157 - - [04/May/2023 14:52:29] \"POST /api HTTP/1.1\" 0 -\n",
      "192.168.104.157 - - [04/May/2023 14:52:30] \"POST /api HTTP/1.1\" 0 -\n",
      "192.168.104.157 - - [04/May/2023 14:52:32] \"POST /api HTTP/1.1\" 0 -\n",
      "192.168.104.157 - - [04/May/2023 14:52:33] \"POST /api HTTP/1.1\" 0 -\n",
      "192.168.104.157 - - [04/May/2023 14:52:33] \"POST /api HTTP/1.1\" 0 -\n",
      "192.168.104.157 - - [04/May/2023 14:52:33] \"POST /api HTTP/1.1\" 0 -\n",
      "192.168.104.157 - - [04/May/2023 14:52:33] \"POST /api HTTP/1.1\" 0 -\n",
      "192.168.104.157 - - [04/May/2023 14:52:34] \"POST /api HTTP/1.1\" 0 -\n",
      "192.168.104.157 - - [04/May/2023 14:52:34] \"POST /api HTTP/1.1\" 0 -\n",
      "192.168.104.157 - - [04/May/2023 14:52:34] \"POST /api HTTP/1.1\" 0 -\n",
      "192.168.104.157 - - [04/May/2023 14:52:35] \"POST /api HTTP/1.1\" 0 -\n",
      "192.168.104.157 - - [04/May/2023 14:52:35] \"POST /api HTTP/1.1\" 0 -\n",
      "192.168.104.157 - - [04/May/2023 14:52:35] \"POST /api HTTP/1.1\" 0 -\n",
      "192.168.104.157 - - [04/May/2023 14:52:36] \"POST /api HTTP/1.1\" 0 -\n",
      "192.168.104.157 - - [04/May/2023 14:52:36] \"POST /api HTTP/1.1\" 0 -\n",
      "192.168.104.157 - - [04/May/2023 14:52:36] \"POST /api HTTP/1.1\" 0 -\n",
      "192.168.104.157 - - [04/May/2023 14:52:37] \"POST /api HTTP/1.1\" 0 -\n",
      "192.168.104.157 - - [04/May/2023 14:52:37] \"POST /api HTTP/1.1\" 0 -\n",
      "192.168.104.157 - - [04/May/2023 14:52:37] \"POST /api HTTP/1.1\" 0 -\n",
      "192.168.104.157 - - [04/May/2023 14:52:37] \"POST /api HTTP/1.1\" 0 -\n",
      "192.168.104.157 - - [04/May/2023 14:52:38] \"POST /api HTTP/1.1\" 0 -\n",
      "192.168.104.157 - - [04/May/2023 14:52:38] \"POST /api HTTP/1.1\" 0 -\n",
      "192.168.104.157 - - [04/May/2023 14:52:38] \"POST /api HTTP/1.1\" 0 -\n",
      "192.168.104.157 - - [04/May/2023 14:52:38] \"POST /api HTTP/1.1\" 0 -\n",
      "192.168.104.157 - - [04/May/2023 14:52:39] \"POST /api HTTP/1.1\" 0 -\n",
      "192.168.104.157 - - [04/May/2023 14:52:39] \"POST /api HTTP/1.1\" 0 -\n",
      "192.168.104.157 - - [04/May/2023 14:52:39] \"POST /api HTTP/1.1\" 0 -\n",
      "192.168.104.157 - - [04/May/2023 14:52:39] \"POST /api HTTP/1.1\" 0 -\n",
      "192.168.104.157 - - [04/May/2023 14:52:40] \"POST /api HTTP/1.1\" 0 -\n",
      "192.168.104.157 - - [04/May/2023 14:52:40] \"POST /api HTTP/1.1\" 0 -\n",
      "192.168.104.157 - - [04/May/2023 14:52:41] \"POST /api HTTP/1.1\" 0 -\n",
      "192.168.104.157 - - [04/May/2023 14:52:41] \"POST /api HTTP/1.1\" 0 -\n",
      "192.168.104.157 - - [04/May/2023 14:52:41] \"POST /api HTTP/1.1\" 0 -\n",
      "192.168.104.157 - - [04/May/2023 14:52:42] \"POST /api HTTP/1.1\" 0 -\n",
      "192.168.104.157 - - [04/May/2023 14:52:42] \"POST /api HTTP/1.1\" 0 -\n",
      "192.168.104.157 - - [04/May/2023 14:52:42] \"POST /api HTTP/1.1\" 0 -\n",
      "192.168.104.157 - - [04/May/2023 14:52:42] \"POST /api HTTP/1.1\" 0 -\n",
      "192.168.104.157 - - [04/May/2023 14:52:43] \"POST /api HTTP/1.1\" 0 -\n",
      "192.168.104.157 - - [04/May/2023 14:52:43] \"POST /api HTTP/1.1\" 0 -\n",
      "192.168.104.157 - - [04/May/2023 14:52:45] \"POST /api HTTP/1.1\" 0 -\n",
      "192.168.104.157 - - [04/May/2023 14:52:46] \"POST /api HTTP/1.1\" 0 -\n",
      "192.168.104.157 - - [04/May/2023 14:52:46] \"POST /api HTTP/1.1\" 0 -\n",
      "192.168.104.157 - - [04/May/2023 14:52:46] \"POST /api HTTP/1.1\" 0 -\n",
      "192.168.104.157 - - [04/May/2023 14:52:46] \"POST /api HTTP/1.1\" 0 -\n",
      "192.168.104.157 - - [04/May/2023 14:52:47] \"POST /api HTTP/1.1\" 0 -\n",
      "192.168.104.157 - - [04/May/2023 14:52:47] \"POST /api HTTP/1.1\" 0 -\n",
      "192.168.104.157 - - [04/May/2023 14:52:47] \"POST /api HTTP/1.1\" 0 -\n",
      "192.168.104.157 - - [04/May/2023 14:52:47] \"POST /api HTTP/1.1\" 0 -\n",
      "192.168.104.157 - - [04/May/2023 14:52:48] \"POST /api HTTP/1.1\" 0 -\n",
      "192.168.104.157 - - [04/May/2023 14:52:48] \"POST /api HTTP/1.1\" 0 -\n",
      "192.168.104.157 - - [04/May/2023 14:52:48] \"POST /api HTTP/1.1\" 0 -\n",
      "192.168.104.157 - - [04/May/2023 14:52:49] \"POST /api HTTP/1.1\" 0 -\n"
     ]
    },
    {
     "name": "stderr",
     "output_type": "stream",
     "text": [
      "192.168.104.157 - - [04/May/2023 14:53:43] \"POST /api HTTP/1.1\" 400 -\n",
      "192.168.104.157 - - [04/May/2023 14:53:43] \"POST /api HTTP/1.1\" 400 -\n",
      "192.168.104.157 - - [04/May/2023 14:53:43] \"POST /api HTTP/1.1\" 400 -\n"
     ]
    }
   ],
   "source": [
    "app = Flask(__name__)\n",
    "@app.route('/api', methods=['POST','GET'])\n",
    "def upload():\n",
    "    global name, done\n",
    "    received = request\n",
    "    img = None\n",
    "    if received.files:\n",
    "        file  = received.files['imageFile']\n",
    "        nparr = np.fromstring(file.read(), np.uint8)\n",
    "        img = cv.imdecode(nparr, cv.IMREAD_COLOR)\n",
    "        cv.imwrite(os.path.join(dir, 'temp/img.jpg'), img)\n",
    "        threading.Thread(target=model(img))\n",
    "        if done==True:\n",
    "            done = False\n",
    "        elif done==False:\n",
    "            name = 'None'\n",
    "        return \"[SUCCESS] Image Received\", name\n",
    "    else:\n",
    "        return \"[FAILED] Image Not Received\", ''\n",
    "    \n",
    "app.run(host='0.0.0.0', port=5000, debug=True, use_reloader=False)"
   ]
  }
 ],
 "metadata": {
  "kernelspec": {
   "display_name": "env_3-6-13",
   "language": "python",
   "name": "python3"
  },
  "language_info": {
   "codemirror_mode": {
    "name": "ipython",
    "version": 3
   },
   "file_extension": ".py",
   "mimetype": "text/x-python",
   "name": "python",
   "nbconvert_exporter": "python",
   "pygments_lexer": "ipython3",
   "version": "3.6.13"
  },
  "orig_nbformat": 4
 },
 "nbformat": 4,
 "nbformat_minor": 2
}
